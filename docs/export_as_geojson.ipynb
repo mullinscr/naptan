{
 "cells": [
  {
   "attachments": {},
   "cell_type": "markdown",
   "metadata": {},
   "source": [
    "It is likely that you'll want to view these NaPTAN stops on a map. The\n",
    "`naptan.export_geojson` function generates a [geoJSON](https://en.wikipedia.org/wiki/GeoJSON)\n",
    "file — providing a handy file format that can be readily consumed and mapped by\n",
    "a variety of platforms or software.\n",
    "\n",
    "You can pass in the result of either `naptan.get_all_stops`, `naptan.get_area_stops`\n",
    "or `naptan.get_specific_stops` to the function. Also, provide the path and name\n",
    "of the output file to the `path` parameter."
   ]
  },
  {
   "cell_type": "code",
   "execution_count": 15,
   "metadata": {},
   "outputs": [],
   "source": [
    "import naptan\n",
    "\n",
    "# Get the active stops for Cornwall (area = 80)\n",
    "cornish_stops = naptan.get_area_stops([80])\n",
    "\n",
    "# and export\n",
    "naptan.export_geojson(cornish_stops, path='cornish_stops.json')"
   ]
  },
  {
   "cell_type": "code",
   "execution_count": 14,
   "metadata": {},
   "outputs": [],
   "source": [
    "naptan.export_geojson(cornish_stops, path='cornish_stops.json')"
   ]
  },
  {
   "attachments": {},
   "cell_type": "markdown",
   "metadata": {},
   "source": [
    "A snippet of the result is below:"
   ]
  },
  {
   "attachments": {},
   "cell_type": "markdown",
   "metadata": {},
   "source": [
    "```json\n",
    "# cornish_stops.json\n",
    "\n",
    "{\n",
    "  \"type\": \"FeatureCollection\",\n",
    "  \"features\": [\n",
    "    {\n",
    "      \"type\": \"Feature\",\n",
    "      \"geometry\": {\n",
    "        \"type\": \"Point\",\n",
    "        \"coordinates\": [\n",
    "          -5.531304582273736,\n",
    "          50.121656549309954\n",
    "        ]\n",
    "      },\n",
    "      \"properties\": {\n",
    "        \"ATCOCode\": \"0800COD40021\",\n",
    "        \"NaptanCode\": \"coradwpm\",\n",
    "        \"PlateCode\": NaN,\n",
    "        \"CleardownCode\": NaN,\n",
    "        \"CommonName\": \"Penzance Bus Station\",\n",
    "        \"CommonNameLang\": NaN,\n",
    "        \"ShortCommonName\": NaN,\n",
    "        \"ShortCommonNameLang\": NaN,\n",
    "        \"Landmark\": NaN,\n",
    "        \"LandmarkLang\": NaN,\n",
    "        \"Street\": NaN,\n",
    "        \"StreetLang\": NaN,\n",
    "        \"Crossing\": NaN,\n",
    "        \"CrossingLang\": NaN,\n",
    "        \"Indicator\": \"S-bound\",\n",
    "        \"IndicatorLang\": NaN,\n",
    "        \"Bearing\": \"S\",\n",
    "        \"NptgLocalityCode\": \"E0044623\",\n",
    "        \"LocalityName\": \"Penzance\",\n",
    "        \"ParentLocalityName\": NaN,\n",
    "        \"GrandParentLocalityName\": NaN,\n",
    "        \"Town\": NaN,\n",
    "        \"TownLang\": NaN,\n",
    "        \"Suburb\": NaN,\n",
    "        \"SuburbLang\": NaN,\n",
    "        \"LocalityCentre\": \"false\",\n",
    "        \"GridType\": \"UKOS\",\n",
    "        \"Easting\": 147678,\n",
    "        \"Northing\": 30593,\n",
    "        \"Longitude\": -5.531304582273736,\n",
    "        \"Latitude\": 50.121656549309954,\n",
    "        \"StopType\": \"BCT\",\n",
    "        \"BusStopType\": \"MKD\",\n",
    "        \"TimingStatus\": \"OTH\",\n",
    "        \"DefaultWaitTime\": NaN,\n",
    "        \"Notes\": NaN,\n",
    "        \"NotesLang\": NaN,\n",
    "        \"AdministrativeAreaCode\": 73,\n",
    "        \"CreationDateTime\": \"2006-05-18T00:00:00\",\n",
    "        \"ModificationDateTime\": \"2015-04-25T12:22:36\",\n",
    "        \"RevisionNumber\": 0,\n",
    "        \"Modification\": \"delete\",\n",
    "        \"Status\": \"inactive\"\n",
    "      }\n",
    "    },\n",
    "...\n",
    "```"
   ]
  }
 ],
 "metadata": {
  "kernelspec": {
   "display_name": "base",
   "language": "python",
   "name": "python3"
  },
  "language_info": {
   "codemirror_mode": {
    "name": "ipython",
    "version": 3
   },
   "file_extension": ".py",
   "mimetype": "text/x-python",
   "name": "python",
   "nbconvert_exporter": "python",
   "pygments_lexer": "ipython3",
   "version": "3.7.4"
  },
  "orig_nbformat": 4,
  "vscode": {
   "interpreter": {
    "hash": "ad2bdc8ecc057115af97d19610ffacc2b4e99fae6737bb82f5d7fb13d2f2c186"
   }
  }
 },
 "nbformat": 4,
 "nbformat_minor": 2
}
